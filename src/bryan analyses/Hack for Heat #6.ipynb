{
 "cells": [
  {
   "cell_type": "code",
   "execution_count": 1,
   "metadata": {
    "collapsed": false
   },
   "outputs": [],
   "source": [
    "%matplotlib inline\n",
    "\n",
    "from matplotlib import pyplot as plt\n",
    "import pandas as pd\n",
    "import numpy as np\n",
    "import psycopg2\n",
    "\n",
    "pd.options.display.max_columns = 40"
   ]
  },
  {
   "cell_type": "markdown",
   "metadata": {},
   "source": [
    "## Hack for Heat #6: Complaint resolution time, over time and censoring\n",
    "\n",
    "As a follow up to the last post, we're going to try and find out if the average resolution time has changed over time. This might be tricky, as we might run into the issue of censoring. [Censoring](https://en.wikipedia.org/wiki/Censoring_(statistics)) is a problem in time-series analyses that occurs when data that are missing because they lie outside of the range of the measure.\n",
    "\n",
    "In this case, what we might expect to find is that complaint resolution time *appears* shorter as we get to the present day, and that may be true, but it may also happen because cases where problems have *yet to be solved* show up as missing data. In other words, for a case that was opened in 2010, the longest possible resolution time is 5 years, whereas for a case opened yesterday, the longest possible resolution time is 1 day.\n",
    "\n",
    "So, as a first step, let's look at the proportion of unseen cases over time:"
   ]
  },
  {
   "cell_type": "code",
   "execution_count": 2,
   "metadata": {
    "collapsed": false
   },
   "outputs": [],
   "source": [
    "#Like before, we're going to select the relevant columns from the database:\n",
    "connection = psycopg2.connect('dbname= threeoneone user=threeoneoneadmin password=threeoneoneadmin')\n",
    "cursor = connection.cursor()\n",
    "\n",
    "cursor.execute('''SELECT createddate, closeddate, borough FROM service;''')\n",
    "data = cursor.fetchall()\n",
    "data = pd.DataFrame(data)"
   ]
  },
  {
   "cell_type": "code",
   "execution_count": 3,
   "metadata": {
    "collapsed": false
   },
   "outputs": [],
   "source": [
    "data.columns = ['createddate','closeddate','borough']"
   ]
  },
  {
   "cell_type": "markdown",
   "metadata": {},
   "source": [
    "Let's extract years and months again:"
   ]
  },
  {
   "cell_type": "code",
   "execution_count": 4,
   "metadata": {
    "collapsed": true
   },
   "outputs": [],
   "source": [
    "data['cryear'] = [x.year for x in data['createddate']]\n",
    "data['crmonth'] = [x.month for x in data['createddate']]"
   ]
  },
  {
   "cell_type": "markdown",
   "metadata": {},
   "source": [
    "And now, we're going to filter out bad cases again. However, this time, we're going to be a bit more selective. We're going to include cases where the closed date is missing."
   ]
  },
  {
   "cell_type": "code",
   "execution_count": 5,
   "metadata": {
    "collapsed": false
   },
   "outputs": [],
   "source": [
    "#filter out bad casesa\n",
    "import datetime\n",
    "\n",
    "today = datetime.date(2016,5,29)\n",
    "janone = datetime.date(2010,1,1)\n",
    "\n",
    "data = data.loc[(data['closeddate'] > data['createddate']) | (data['closeddate'].isnull() == True)]"
   ]
  },
  {
   "cell_type": "code",
   "execution_count": 6,
   "metadata": {
    "collapsed": false
   },
   "outputs": [
    {
     "data": {
      "text/html": [
       "<div>\n",
       "<table border=\"1\" class=\"dataframe\">\n",
       "  <thead>\n",
       "    <tr style=\"text-align: right;\">\n",
       "      <th></th>\n",
       "      <th>createddate</th>\n",
       "      <th>closeddate</th>\n",
       "      <th>borough</th>\n",
       "      <th>crmonth</th>\n",
       "    </tr>\n",
       "    <tr>\n",
       "      <th>cryear</th>\n",
       "      <th></th>\n",
       "      <th></th>\n",
       "      <th></th>\n",
       "      <th></th>\n",
       "    </tr>\n",
       "  </thead>\n",
       "  <tbody>\n",
       "    <tr>\n",
       "      <th>2010</th>\n",
       "      <td>1340309</td>\n",
       "      <td>1281719</td>\n",
       "      <td>1340309</td>\n",
       "      <td>1340309</td>\n",
       "    </tr>\n",
       "    <tr>\n",
       "      <th>2011</th>\n",
       "      <td>1294795</td>\n",
       "      <td>1157180</td>\n",
       "      <td>1294795</td>\n",
       "      <td>1294795</td>\n",
       "    </tr>\n",
       "    <tr>\n",
       "      <th>2012</th>\n",
       "      <td>1185598</td>\n",
       "      <td>1148399</td>\n",
       "      <td>1185598</td>\n",
       "      <td>1185598</td>\n",
       "    </tr>\n",
       "    <tr>\n",
       "      <th>2013</th>\n",
       "      <td>1221690</td>\n",
       "      <td>1177863</td>\n",
       "      <td>1221690</td>\n",
       "      <td>1221690</td>\n",
       "    </tr>\n",
       "    <tr>\n",
       "      <th>2014</th>\n",
       "      <td>1354300</td>\n",
       "      <td>1305561</td>\n",
       "      <td>1354300</td>\n",
       "      <td>1354300</td>\n",
       "    </tr>\n",
       "    <tr>\n",
       "      <th>2015</th>\n",
       "      <td>1451521</td>\n",
       "      <td>1378090</td>\n",
       "      <td>1451521</td>\n",
       "      <td>1451521</td>\n",
       "    </tr>\n",
       "    <tr>\n",
       "      <th>2016</th>\n",
       "      <td>605070</td>\n",
       "      <td>530959</td>\n",
       "      <td>605070</td>\n",
       "      <td>605070</td>\n",
       "    </tr>\n",
       "  </tbody>\n",
       "</table>\n",
       "</div>"
      ],
      "text/plain": [
       "        createddate  closeddate  borough  crmonth\n",
       "cryear                                           \n",
       "2010        1340309     1281719  1340309  1340309\n",
       "2011        1294795     1157180  1294795  1294795\n",
       "2012        1185598     1148399  1185598  1185598\n",
       "2013        1221690     1177863  1221690  1221690\n",
       "2014        1354300     1305561  1354300  1354300\n",
       "2015        1451521     1378090  1451521  1451521\n",
       "2016         605070      530959   605070   605070"
      ]
     },
     "execution_count": 6,
     "metadata": {},
     "output_type": "execute_result"
    }
   ],
   "source": [
    "databyyear = data.groupby(by='cryear').count()\n",
    "databyyear"
   ]
  },
  {
   "cell_type": "code",
   "execution_count": 7,
   "metadata": {
    "collapsed": false
   },
   "outputs": [],
   "source": [
    "data['timedelta'] = data['closeddate'] - data['createddate']\n",
    "data['timedeltaint'] = [x.days if pd.isnull(x) == False else None for x in data['timedelta']]"
   ]
  },
  {
   "cell_type": "code",
   "execution_count": 8,
   "metadata": {
    "collapsed": false
   },
   "outputs": [
    {
     "data": {
      "text/html": [
       "<div>\n",
       "<table border=\"1\" class=\"dataframe\">\n",
       "  <thead>\n",
       "    <tr style=\"text-align: right;\">\n",
       "      <th></th>\n",
       "      <th>crmonth</th>\n",
       "      <th>timedeltaint</th>\n",
       "    </tr>\n",
       "    <tr>\n",
       "      <th>cryear</th>\n",
       "      <th></th>\n",
       "      <th></th>\n",
       "    </tr>\n",
       "  </thead>\n",
       "  <tbody>\n",
       "    <tr>\n",
       "      <th>2010</th>\n",
       "      <td>6.505385</td>\n",
       "      <td>24.508043</td>\n",
       "    </tr>\n",
       "    <tr>\n",
       "      <th>2011</th>\n",
       "      <td>6.491262</td>\n",
       "      <td>22.512834</td>\n",
       "    </tr>\n",
       "    <tr>\n",
       "      <th>2012</th>\n",
       "      <td>6.617468</td>\n",
       "      <td>22.690249</td>\n",
       "    </tr>\n",
       "    <tr>\n",
       "      <th>2013</th>\n",
       "      <td>6.414707</td>\n",
       "      <td>20.205784</td>\n",
       "    </tr>\n",
       "    <tr>\n",
       "      <th>2014</th>\n",
       "      <td>6.280245</td>\n",
       "      <td>19.712918</td>\n",
       "    </tr>\n",
       "    <tr>\n",
       "      <th>2015</th>\n",
       "      <td>6.314193</td>\n",
       "      <td>16.731161</td>\n",
       "    </tr>\n",
       "    <tr>\n",
       "      <th>2016</th>\n",
       "      <td>2.799473</td>\n",
       "      <td>8.634098</td>\n",
       "    </tr>\n",
       "  </tbody>\n",
       "</table>\n",
       "</div>"
      ],
      "text/plain": [
       "         crmonth  timedeltaint\n",
       "cryear                        \n",
       "2010    6.505385     24.508043\n",
       "2011    6.491262     22.512834\n",
       "2012    6.617468     22.690249\n",
       "2013    6.414707     20.205784\n",
       "2014    6.280245     19.712918\n",
       "2015    6.314193     16.731161\n",
       "2016    2.799473      8.634098"
      ]
     },
     "execution_count": 8,
     "metadata": {},
     "output_type": "execute_result"
    }
   ],
   "source": [
    "data.groupby(by='cryear').mean()"
   ]
  },
  {
   "cell_type": "markdown",
   "metadata": {},
   "source": [
    "This table shows exactly what I'm talking about - as we get closer to the current day, the average resolution time falls more and more. If censorig is occuring, we might expect that the proportion of cases closed is also decreasing over time. This is generally the case:"
   ]
  },
  {
   "cell_type": "code",
   "execution_count": 9,
   "metadata": {
    "collapsed": false
   },
   "outputs": [
    {
     "data": {
      "text/html": [
       "<div>\n",
       "<table border=\"1\" class=\"dataframe\">\n",
       "  <thead>\n",
       "    <tr style=\"text-align: right;\">\n",
       "      <th></th>\n",
       "      <th>createddate</th>\n",
       "      <th>closeddate</th>\n",
       "      <th>borough</th>\n",
       "      <th>crmonth</th>\n",
       "      <th>propclosed</th>\n",
       "    </tr>\n",
       "    <tr>\n",
       "      <th>cryear</th>\n",
       "      <th></th>\n",
       "      <th></th>\n",
       "      <th></th>\n",
       "      <th></th>\n",
       "      <th></th>\n",
       "    </tr>\n",
       "  </thead>\n",
       "  <tbody>\n",
       "    <tr>\n",
       "      <th>2010</th>\n",
       "      <td>1340309</td>\n",
       "      <td>1281719</td>\n",
       "      <td>1340309</td>\n",
       "      <td>1340309</td>\n",
       "      <td>0.956286</td>\n",
       "    </tr>\n",
       "    <tr>\n",
       "      <th>2011</th>\n",
       "      <td>1294795</td>\n",
       "      <td>1157180</td>\n",
       "      <td>1294795</td>\n",
       "      <td>1294795</td>\n",
       "      <td>0.893717</td>\n",
       "    </tr>\n",
       "    <tr>\n",
       "      <th>2012</th>\n",
       "      <td>1185598</td>\n",
       "      <td>1148399</td>\n",
       "      <td>1185598</td>\n",
       "      <td>1185598</td>\n",
       "      <td>0.968624</td>\n",
       "    </tr>\n",
       "    <tr>\n",
       "      <th>2013</th>\n",
       "      <td>1221690</td>\n",
       "      <td>1177863</td>\n",
       "      <td>1221690</td>\n",
       "      <td>1221690</td>\n",
       "      <td>0.964126</td>\n",
       "    </tr>\n",
       "    <tr>\n",
       "      <th>2014</th>\n",
       "      <td>1354300</td>\n",
       "      <td>1305561</td>\n",
       "      <td>1354300</td>\n",
       "      <td>1354300</td>\n",
       "      <td>0.964012</td>\n",
       "    </tr>\n",
       "    <tr>\n",
       "      <th>2015</th>\n",
       "      <td>1451521</td>\n",
       "      <td>1378090</td>\n",
       "      <td>1451521</td>\n",
       "      <td>1451521</td>\n",
       "      <td>0.949411</td>\n",
       "    </tr>\n",
       "    <tr>\n",
       "      <th>2016</th>\n",
       "      <td>605070</td>\n",
       "      <td>530959</td>\n",
       "      <td>605070</td>\n",
       "      <td>605070</td>\n",
       "      <td>0.877517</td>\n",
       "    </tr>\n",
       "  </tbody>\n",
       "</table>\n",
       "</div>"
      ],
      "text/plain": [
       "        createddate  closeddate  borough  crmonth  propclosed\n",
       "cryear                                                       \n",
       "2010        1340309     1281719  1340309  1340309    0.956286\n",
       "2011        1294795     1157180  1294795  1294795    0.893717\n",
       "2012        1185598     1148399  1185598  1185598    0.968624\n",
       "2013        1221690     1177863  1221690  1221690    0.964126\n",
       "2014        1354300     1305561  1354300  1354300    0.964012\n",
       "2015        1451521     1378090  1451521  1451521    0.949411\n",
       "2016         605070      530959   605070   605070    0.877517"
      ]
     },
     "execution_count": 9,
     "metadata": {},
     "output_type": "execute_result"
    }
   ],
   "source": [
    "databyyear['propclosed'] = databyyear['closeddate']/databyyear['createddate']\n",
    "databyyear"
   ]
  },
  {
   "cell_type": "markdown",
   "metadata": {},
   "source": [
    "With the exception of year 2011, which we have reason to believe is wonky (see Hack for Heat #4), this is generally the case. So, how do we deal with this issue? To be honest, I don't know at the moment. But I'm going to read [this](https://stsda.kaust.edu.sa/Documents/2007.PGG.CJS.pdf) paper tomorrow, and see if I can implement something."
   ]
  }
 ],
 "metadata": {
  "kernelspec": {
   "display_name": "Python 2",
   "language": "python",
   "name": "python2"
  },
  "language_info": {
   "codemirror_mode": {
    "name": "ipython",
    "version": 2
   },
   "file_extension": ".py",
   "mimetype": "text/x-python",
   "name": "python",
   "nbconvert_exporter": "python",
   "pygments_lexer": "ipython2",
   "version": "2.7.11"
  }
 },
 "nbformat": 4,
 "nbformat_minor": 0
}
