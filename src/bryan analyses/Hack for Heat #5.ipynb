{
 "cells": [
  {
   "cell_type": "code",
   "execution_count": 1,
   "metadata": {
    "collapsed": false
   },
   "outputs": [],
   "source": [
    "%matplotlib inline\n",
    "\n",
    "from matplotlib import pyplot as plt\n",
    "import pandas as pd\n",
    "import numpy as np\n",
    "import psycopg2\n",
    "\n",
    "pd.options.display.max_columns = 40"
   ]
  },
  {
   "cell_type": "markdown",
   "metadata": {},
   "source": [
    "## Hack for Heat #5: How long do complaints take to resolve?\n",
    "\n",
    "In this post, we're going to see if we can graph how long it takes for complaints to get resolved."
   ]
  },
  {
   "cell_type": "code",
   "execution_count": 2,
   "metadata": {
    "collapsed": false
   },
   "outputs": [],
   "source": [
    "connection = psycopg2.connect('dbname= threeoneone user=threeoneoneadmin password=threeoneoneadmin')\n",
    "cursor = connection.cursor()\n",
    "\n",
    "cursor.execute('''SELECT createddate, closeddate, borough FROM service;''')\n",
    "data = cursor.fetchall()\n",
    "data = pd.DataFrame(data)"
   ]
  },
  {
   "cell_type": "code",
   "execution_count": 3,
   "metadata": {
    "collapsed": false
   },
   "outputs": [],
   "source": [
    "data.columns = ['createddate','closeddate','borough']"
   ]
  },
  {
   "cell_type": "code",
   "execution_count": 4,
   "metadata": {
    "collapsed": false
   },
   "outputs": [],
   "source": [
    "data = data.loc[data['createddate'].notnull()]\n",
    "data = data.loc[data['closeddate'].notnull()]"
   ]
  },
  {
   "cell_type": "code",
   "execution_count": 5,
   "metadata": {
    "collapsed": false
   },
   "outputs": [],
   "source": [
    "data['timedelta'] = data['closeddate'] - data['createddate']"
   ]
  },
  {
   "cell_type": "code",
   "execution_count": 6,
   "metadata": {
    "collapsed": false
   },
   "outputs": [],
   "source": [
    "data['timedeltaint'] = [x.days for x in data['timedelta']]"
   ]
  },
  {
   "cell_type": "code",
   "execution_count": 7,
   "metadata": {
    "collapsed": false
   },
   "outputs": [
    {
     "data": {
      "text/html": [
       "<div>\n",
       "<table border=\"1\" class=\"dataframe\">\n",
       "  <thead>\n",
       "    <tr style=\"text-align: right;\">\n",
       "      <th></th>\n",
       "      <th>createddate</th>\n",
       "      <th>closeddate</th>\n",
       "      <th>borough</th>\n",
       "      <th>timedelta</th>\n",
       "      <th>timedeltaint</th>\n",
       "    </tr>\n",
       "  </thead>\n",
       "  <tbody>\n",
       "    <tr>\n",
       "      <th>0</th>\n",
       "      <td>2013-04-26</td>\n",
       "      <td>2013-04-26</td>\n",
       "      <td>QUEENS</td>\n",
       "      <td>0 days</td>\n",
       "      <td>0</td>\n",
       "    </tr>\n",
       "    <tr>\n",
       "      <th>1</th>\n",
       "      <td>2013-04-26</td>\n",
       "      <td>2013-04-29</td>\n",
       "      <td>MANHATTAN</td>\n",
       "      <td>3 days</td>\n",
       "      <td>3</td>\n",
       "    </tr>\n",
       "    <tr>\n",
       "      <th>2</th>\n",
       "      <td>2013-04-26</td>\n",
       "      <td>2013-04-30</td>\n",
       "      <td>MANHATTAN</td>\n",
       "      <td>4 days</td>\n",
       "      <td>4</td>\n",
       "    </tr>\n",
       "    <tr>\n",
       "      <th>3</th>\n",
       "      <td>2013-04-26</td>\n",
       "      <td>2013-04-26</td>\n",
       "      <td>QUEENS</td>\n",
       "      <td>0 days</td>\n",
       "      <td>0</td>\n",
       "    </tr>\n",
       "    <tr>\n",
       "      <th>4</th>\n",
       "      <td>2013-04-26</td>\n",
       "      <td>2013-04-30</td>\n",
       "      <td>STATEN ISLAND</td>\n",
       "      <td>4 days</td>\n",
       "      <td>4</td>\n",
       "    </tr>\n",
       "  </tbody>\n",
       "</table>\n",
       "</div>"
      ],
      "text/plain": [
       "  createddate  closeddate        borough  timedelta  timedeltaint\n",
       "0  2013-04-26  2013-04-26         QUEENS     0 days             0\n",
       "1  2013-04-26  2013-04-29      MANHATTAN     3 days             3\n",
       "2  2013-04-26  2013-04-30      MANHATTAN     4 days             4\n",
       "3  2013-04-26  2013-04-26         QUEENS     0 days             0\n",
       "4  2013-04-26  2013-04-30  STATEN ISLAND     4 days             4"
      ]
     },
     "execution_count": 7,
     "metadata": {},
     "output_type": "execute_result"
    }
   ],
   "source": [
    "data.head()"
   ]
  },
  {
   "cell_type": "code",
   "execution_count": 8,
   "metadata": {
    "collapsed": false
   },
   "outputs": [
    {
     "data": {
      "text/plain": [
       "borough\n",
       "BRONX            -3.658691\n",
       "BROOKLYN         -6.835417\n",
       "MANHATTAN       -20.325506\n",
       "QUEENS           -4.121806\n",
       "STATEN ISLAND    -2.108396\n",
       "Unspecified       4.699638\n",
       "Name: timedeltaint, dtype: float64"
      ]
     },
     "execution_count": 8,
     "metadata": {},
     "output_type": "execute_result"
    }
   ],
   "source": [
    "data.groupby(by='borough')['timedeltaint'].mean()"
   ]
  },
  {
   "cell_type": "markdown",
   "metadata": {},
   "source": [
    "Oops! Looks like something's wrong. Let's try and find out:"
   ]
  },
  {
   "cell_type": "code",
   "execution_count": 9,
   "metadata": {
    "collapsed": false
   },
   "outputs": [
    {
     "data": {
      "text/html": [
       "<div>\n",
       "<table border=\"1\" class=\"dataframe\">\n",
       "  <thead>\n",
       "    <tr style=\"text-align: right;\">\n",
       "      <th></th>\n",
       "      <th>createddate</th>\n",
       "      <th>closeddate</th>\n",
       "      <th>borough</th>\n",
       "      <th>timedelta</th>\n",
       "      <th>timedeltaint</th>\n",
       "    </tr>\n",
       "  </thead>\n",
       "  <tbody>\n",
       "    <tr>\n",
       "      <th>604564</th>\n",
       "      <td>2016-03-16</td>\n",
       "      <td>1900-01-01</td>\n",
       "      <td>Unspecified</td>\n",
       "      <td>-42443 days</td>\n",
       "      <td>-42443</td>\n",
       "    </tr>\n",
       "    <tr>\n",
       "      <th>596082</th>\n",
       "      <td>2016-03-16</td>\n",
       "      <td>1900-01-01</td>\n",
       "      <td>Unspecified</td>\n",
       "      <td>-42443 days</td>\n",
       "      <td>-42443</td>\n",
       "    </tr>\n",
       "    <tr>\n",
       "      <th>605654</th>\n",
       "      <td>2016-03-16</td>\n",
       "      <td>1900-01-01</td>\n",
       "      <td>QUEENS</td>\n",
       "      <td>-42443 days</td>\n",
       "      <td>-42443</td>\n",
       "    </tr>\n",
       "    <tr>\n",
       "      <th>606458</th>\n",
       "      <td>2016-03-15</td>\n",
       "      <td>1900-01-01</td>\n",
       "      <td>MANHATTAN</td>\n",
       "      <td>-42442 days</td>\n",
       "      <td>-42442</td>\n",
       "    </tr>\n",
       "    <tr>\n",
       "      <th>552013</th>\n",
       "      <td>2016-03-14</td>\n",
       "      <td>1900-01-01</td>\n",
       "      <td>Unspecified</td>\n",
       "      <td>-42441 days</td>\n",
       "      <td>-42441</td>\n",
       "    </tr>\n",
       "  </tbody>\n",
       "</table>\n",
       "</div>"
      ],
      "text/plain": [
       "       createddate  closeddate      borough   timedelta  timedeltaint\n",
       "604564  2016-03-16  1900-01-01  Unspecified -42443 days        -42443\n",
       "596082  2016-03-16  1900-01-01  Unspecified -42443 days        -42443\n",
       "605654  2016-03-16  1900-01-01       QUEENS -42443 days        -42443\n",
       "606458  2016-03-15  1900-01-01    MANHATTAN -42442 days        -42442\n",
       "552013  2016-03-14  1900-01-01  Unspecified -42441 days        -42441"
      ]
     },
     "execution_count": 9,
     "metadata": {},
     "output_type": "execute_result"
    }
   ],
   "source": [
    "data.sort_values('timedeltaint').head()"
   ]
  },
  {
   "cell_type": "code",
   "execution_count": 10,
   "metadata": {
    "collapsed": false
   },
   "outputs": [
    {
     "data": {
      "text/html": [
       "<div>\n",
       "<table border=\"1\" class=\"dataframe\">\n",
       "  <thead>\n",
       "    <tr style=\"text-align: right;\">\n",
       "      <th></th>\n",
       "      <th>createddate</th>\n",
       "      <th>closeddate</th>\n",
       "      <th>borough</th>\n",
       "      <th>timedelta</th>\n",
       "      <th>timedeltaint</th>\n",
       "    </tr>\n",
       "  </thead>\n",
       "  <tbody>\n",
       "    <tr>\n",
       "      <th>9392808</th>\n",
       "      <td>2010-04-08</td>\n",
       "      <td>2201-05-13</td>\n",
       "      <td>BRONX</td>\n",
       "      <td>69796 days</td>\n",
       "      <td>69796</td>\n",
       "    </tr>\n",
       "    <tr>\n",
       "      <th>9525584</th>\n",
       "      <td>2010-06-01</td>\n",
       "      <td>2201-06-17</td>\n",
       "      <td>BROOKLYN</td>\n",
       "      <td>69777 days</td>\n",
       "      <td>69777</td>\n",
       "    </tr>\n",
       "    <tr>\n",
       "      <th>1581464</th>\n",
       "      <td>2011-01-20</td>\n",
       "      <td>2201-03-25</td>\n",
       "      <td>BRONX</td>\n",
       "      <td>69460 days</td>\n",
       "      <td>69460</td>\n",
       "    </tr>\n",
       "    <tr>\n",
       "      <th>1536326</th>\n",
       "      <td>2015-11-03</td>\n",
       "      <td>2100-01-01</td>\n",
       "      <td>QUEENS</td>\n",
       "      <td>30740 days</td>\n",
       "      <td>30740</td>\n",
       "    </tr>\n",
       "    <tr>\n",
       "      <th>2479091</th>\n",
       "      <td>2013-01-10</td>\n",
       "      <td>2023-05-01</td>\n",
       "      <td>BROOKLYN</td>\n",
       "      <td>3763 days</td>\n",
       "      <td>3763</td>\n",
       "    </tr>\n",
       "  </tbody>\n",
       "</table>\n",
       "</div>"
      ],
      "text/plain": [
       "        createddate  closeddate   borough  timedelta  timedeltaint\n",
       "9392808  2010-04-08  2201-05-13     BRONX 69796 days         69796\n",
       "9525584  2010-06-01  2201-06-17  BROOKLYN 69777 days         69777\n",
       "1581464  2011-01-20  2201-03-25     BRONX 69460 days         69460\n",
       "1536326  2015-11-03  2100-01-01    QUEENS 30740 days         30740\n",
       "2479091  2013-01-10  2023-05-01  BROOKLYN  3763 days          3763"
      ]
     },
     "execution_count": 10,
     "metadata": {},
     "output_type": "execute_result"
    }
   ],
   "source": [
    "data.sort_values('timedeltaint', ascending=False).head()"
   ]
  },
  {
   "cell_type": "markdown",
   "metadata": {},
   "source": [
    "Ah. Well, as a first step, let's remove any values that are before Jan 1st 2010 or after today:"
   ]
  },
  {
   "cell_type": "code",
   "execution_count": 11,
   "metadata": {
    "collapsed": false
   },
   "outputs": [],
   "source": [
    "import datetime\n",
    "\n",
    "today = datetime.date(2016,5,29)\n",
    "janone = datetime.date(2010,1,1)"
   ]
  },
  {
   "cell_type": "markdown",
   "metadata": {},
   "source": [
    "Let's also remove any rows where the close date is before the created date:"
   ]
  },
  {
   "cell_type": "code",
   "execution_count": 12,
   "metadata": {
    "collapsed": false
   },
   "outputs": [],
   "source": [
    "subdata = data.loc[(data['closeddate'] > janone) & (data['closeddate'] < today)]\n",
    "subdata = subdata.loc[data['closeddate'] > data['createddate']]"
   ]
  },
  {
   "cell_type": "code",
   "execution_count": 13,
   "metadata": {
    "collapsed": false
   },
   "outputs": [
    {
     "data": {
      "text/plain": [
       "7979757"
      ]
     },
     "execution_count": 13,
     "metadata": {},
     "output_type": "execute_result"
    }
   ],
   "source": [
    "len(subdata)"
   ]
  },
  {
   "cell_type": "code",
   "execution_count": 14,
   "metadata": {
    "collapsed": false
   },
   "outputs": [
    {
     "data": {
      "text/html": [
       "<div>\n",
       "<table border=\"1\" class=\"dataframe\">\n",
       "  <thead>\n",
       "    <tr style=\"text-align: right;\">\n",
       "      <th></th>\n",
       "      <th>createddate</th>\n",
       "      <th>closeddate</th>\n",
       "      <th>borough</th>\n",
       "      <th>timedelta</th>\n",
       "      <th>timedeltaint</th>\n",
       "    </tr>\n",
       "  </thead>\n",
       "  <tbody>\n",
       "    <tr>\n",
       "      <th>11371297</th>\n",
       "      <td>2015-08-28</td>\n",
       "      <td>2015-08-29</td>\n",
       "      <td>QUEENS</td>\n",
       "      <td>1 days</td>\n",
       "      <td>1</td>\n",
       "    </tr>\n",
       "    <tr>\n",
       "      <th>7950080</th>\n",
       "      <td>2015-06-20</td>\n",
       "      <td>2015-06-21</td>\n",
       "      <td>BROOKLYN</td>\n",
       "      <td>1 days</td>\n",
       "      <td>1</td>\n",
       "    </tr>\n",
       "    <tr>\n",
       "      <th>2366882</th>\n",
       "      <td>2012-11-19</td>\n",
       "      <td>2012-11-20</td>\n",
       "      <td>MANHATTAN</td>\n",
       "      <td>1 days</td>\n",
       "      <td>1</td>\n",
       "    </tr>\n",
       "    <tr>\n",
       "      <th>2366879</th>\n",
       "      <td>2015-06-09</td>\n",
       "      <td>2015-06-10</td>\n",
       "      <td>Unspecified</td>\n",
       "      <td>1 days</td>\n",
       "      <td>1</td>\n",
       "    </tr>\n",
       "    <tr>\n",
       "      <th>2366874</th>\n",
       "      <td>2012-04-17</td>\n",
       "      <td>2012-04-18</td>\n",
       "      <td>BROOKLYN</td>\n",
       "      <td>1 days</td>\n",
       "      <td>1</td>\n",
       "    </tr>\n",
       "  </tbody>\n",
       "</table>\n",
       "</div>"
      ],
      "text/plain": [
       "         createddate  closeddate      borough  timedelta  timedeltaint\n",
       "11371297  2015-08-28  2015-08-29       QUEENS     1 days             1\n",
       "7950080   2015-06-20  2015-06-21     BROOKLYN     1 days             1\n",
       "2366882   2012-11-19  2012-11-20    MANHATTAN     1 days             1\n",
       "2366879   2015-06-09  2015-06-10  Unspecified     1 days             1\n",
       "2366874   2012-04-17  2012-04-18     BROOKLYN     1 days             1"
      ]
     },
     "execution_count": 14,
     "metadata": {},
     "output_type": "execute_result"
    }
   ],
   "source": [
    "subdata.sort_values('timedeltaint').head()"
   ]
  },
  {
   "cell_type": "code",
   "execution_count": 15,
   "metadata": {
    "collapsed": false
   },
   "outputs": [
    {
     "data": {
      "text/html": [
       "<div>\n",
       "<table border=\"1\" class=\"dataframe\">\n",
       "  <thead>\n",
       "    <tr style=\"text-align: right;\">\n",
       "      <th></th>\n",
       "      <th>createddate</th>\n",
       "      <th>closeddate</th>\n",
       "      <th>borough</th>\n",
       "      <th>timedelta</th>\n",
       "      <th>timedeltaint</th>\n",
       "    </tr>\n",
       "  </thead>\n",
       "  <tbody>\n",
       "    <tr>\n",
       "      <th>10774084</th>\n",
       "      <td>2010-01-06</td>\n",
       "      <td>2016-03-24</td>\n",
       "      <td>BROOKLYN</td>\n",
       "      <td>2269 days</td>\n",
       "      <td>2269</td>\n",
       "    </tr>\n",
       "    <tr>\n",
       "      <th>1506622</th>\n",
       "      <td>2010-02-19</td>\n",
       "      <td>2016-05-02</td>\n",
       "      <td>BROOKLYN</td>\n",
       "      <td>2264 days</td>\n",
       "      <td>2264</td>\n",
       "    </tr>\n",
       "    <tr>\n",
       "      <th>1508205</th>\n",
       "      <td>2010-03-02</td>\n",
       "      <td>2016-05-04</td>\n",
       "      <td>STATEN ISLAND</td>\n",
       "      <td>2255 days</td>\n",
       "      <td>2255</td>\n",
       "    </tr>\n",
       "    <tr>\n",
       "      <th>513580</th>\n",
       "      <td>2010-01-01</td>\n",
       "      <td>2016-02-17</td>\n",
       "      <td>STATEN ISLAND</td>\n",
       "      <td>2238 days</td>\n",
       "      <td>2238</td>\n",
       "    </tr>\n",
       "    <tr>\n",
       "      <th>589865</th>\n",
       "      <td>2010-01-22</td>\n",
       "      <td>2016-02-25</td>\n",
       "      <td>BRONX</td>\n",
       "      <td>2225 days</td>\n",
       "      <td>2225</td>\n",
       "    </tr>\n",
       "  </tbody>\n",
       "</table>\n",
       "</div>"
      ],
      "text/plain": [
       "         createddate  closeddate        borough  timedelta  timedeltaint\n",
       "10774084  2010-01-06  2016-03-24       BROOKLYN  2269 days          2269\n",
       "1506622   2010-02-19  2016-05-02       BROOKLYN  2264 days          2264\n",
       "1508205   2010-03-02  2016-05-04  STATEN ISLAND  2255 days          2255\n",
       "513580    2010-01-01  2016-02-17  STATEN ISLAND  2238 days          2238\n",
       "589865    2010-01-22  2016-02-25          BRONX  2225 days          2225"
      ]
     },
     "execution_count": 15,
     "metadata": {},
     "output_type": "execute_result"
    }
   ],
   "source": [
    "subdata.sort_values('timedeltaint',ascending = False).head()"
   ]
  },
  {
   "cell_type": "markdown",
   "metadata": {},
   "source": [
    "This looks a little bit more realistic, but let's also visualize the distribution:"
   ]
  },
  {
   "cell_type": "code",
   "execution_count": 16,
   "metadata": {
    "collapsed": true
   },
   "outputs": [],
   "source": [
    "plotdata = list(subdata['timedeltaint'])"
   ]
  },
  {
   "cell_type": "code",
   "execution_count": 17,
   "metadata": {
    "collapsed": false
   },
   "outputs": [
    {
     "data": {
      "image/png": "[encoded data removed]",
      "text/plain": [
       "<matplotlib.figure.Figure at 0x409e1d0>"
      ]
     },
     "metadata": {},
     "output_type": "display_data"
    }
   ],
   "source": [
    "plt.figure(figsize=(12,10))\n",
    "plt.hist(plotdata);"
   ]
  },
  {
   "cell_type": "markdown",
   "metadata": {},
   "source": [
    "Okay, this still looks really wonky. Let's further subset the data, and see what happens when we remove the top and bottom 2.5%.\n",
    "\n",
    "Pandas has a quantile function:"
   ]
  },
  {
   "cell_type": "code",
   "execution_count": 18,
   "metadata": {
    "collapsed": false
   },
   "outputs": [
    {
     "data": {
      "text/html": [
       "<div>\n",
       "<table border=\"1\" class=\"dataframe\">\n",
       "  <thead>\n",
       "    <tr style=\"text-align: right;\">\n",
       "      <th></th>\n",
       "      <th>timedeltaint</th>\n",
       "    </tr>\n",
       "  </thead>\n",
       "  <tbody>\n",
       "    <tr>\n",
       "      <th>0.025</th>\n",
       "      <td>1</td>\n",
       "    </tr>\n",
       "    <tr>\n",
       "      <th>0.975</th>\n",
       "      <td>138</td>\n",
       "    </tr>\n",
       "  </tbody>\n",
       "</table>\n",
       "</div>"
      ],
      "text/plain": [
       "       timedeltaint\n",
       "0.025             1\n",
       "0.975           138"
      ]
     },
     "execution_count": 18,
     "metadata": {},
     "output_type": "execute_result"
    }
   ],
   "source": [
    "subdata.quantile([.025, .975])"
   ]
  },
  {
   "cell_type": "code",
   "execution_count": 19,
   "metadata": {
    "collapsed": true
   },
   "outputs": [],
   "source": [
    "quantcutdata = subdata.loc[(subdata['timedeltaint'] > 1) & (subdata['timedeltaint'] < 138) ]"
   ]
  },
  {
   "cell_type": "code",
   "execution_count": 20,
   "metadata": {
    "collapsed": false
   },
   "outputs": [
    {
     "data": {
      "text/plain": [
       "6278707"
      ]
     },
     "execution_count": 20,
     "metadata": {},
     "output_type": "execute_result"
    }
   ],
   "source": [
    "len(quantcutdata)"
   ]
  },
  {
   "cell_type": "code",
   "execution_count": 21,
   "metadata": {
    "collapsed": false
   },
   "outputs": [
    {
     "data": {
      "image/png": "[encoded data removed]",
      "text/plain": [
       "<matplotlib.figure.Figure at 0x7d270f98>"
      ]
     },
     "metadata": {},
     "output_type": "display_data"
    }
   ],
   "source": [
    "plotdata = list(quantcutdata['timedeltaint'])\n",
    "\n",
    "plt.figure(figsize=(12,10))\n",
    "plt.hist(plotdata);"
   ]
  },
  {
   "cell_type": "markdown",
   "metadata": {},
   "source": [
    "That looks a little better, but there might be other ways to filter out bad data."
   ]
  },
  {
   "cell_type": "code",
   "execution_count": 22,
   "metadata": {
    "collapsed": false
   },
   "outputs": [
    {
     "data": {
      "text/html": [
       "<div>\n",
       "<table border=\"1\" class=\"dataframe\">\n",
       "  <thead>\n",
       "    <tr style=\"text-align: right;\">\n",
       "      <th></th>\n",
       "      <th>timedeltaint</th>\n",
       "    </tr>\n",
       "    <tr>\n",
       "      <th>borough</th>\n",
       "      <th></th>\n",
       "    </tr>\n",
       "  </thead>\n",
       "  <tbody>\n",
       "    <tr>\n",
       "      <th>BRONX</th>\n",
       "      <td>5</td>\n",
       "    </tr>\n",
       "    <tr>\n",
       "      <th>BROOKLYN</th>\n",
       "      <td>5</td>\n",
       "    </tr>\n",
       "    <tr>\n",
       "      <th>MANHATTAN</th>\n",
       "      <td>6</td>\n",
       "    </tr>\n",
       "    <tr>\n",
       "      <th>QUEENS</th>\n",
       "      <td>5</td>\n",
       "    </tr>\n",
       "    <tr>\n",
       "      <th>STATEN ISLAND</th>\n",
       "      <td>4</td>\n",
       "    </tr>\n",
       "    <tr>\n",
       "      <th>Unspecified</th>\n",
       "      <td>5</td>\n",
       "    </tr>\n",
       "  </tbody>\n",
       "</table>\n",
       "</div>"
      ],
      "text/plain": [
       "               timedeltaint\n",
       "borough                    \n",
       "BRONX                     5\n",
       "BROOKLYN                  5\n",
       "MANHATTAN                 6\n",
       "QUEENS                    5\n",
       "STATEN ISLAND             4\n",
       "Unspecified               5"
      ]
     },
     "execution_count": 22,
     "metadata": {},
     "output_type": "execute_result"
    }
   ],
   "source": [
    "subdata.groupby(by='borough').median()"
   ]
  },
  {
   "cell_type": "code",
   "execution_count": 23,
   "metadata": {
    "collapsed": false
   },
   "outputs": [
    {
     "data": {
      "text/html": [
       "<div>\n",
       "<table border=\"1\" class=\"dataframe\">\n",
       "  <thead>\n",
       "    <tr style=\"text-align: right;\">\n",
       "      <th></th>\n",
       "      <th>timedeltaint</th>\n",
       "    </tr>\n",
       "    <tr>\n",
       "      <th>borough</th>\n",
       "      <th></th>\n",
       "    </tr>\n",
       "  </thead>\n",
       "  <tbody>\n",
       "    <tr>\n",
       "      <th>BRONX</th>\n",
       "      <td>18.789025</td>\n",
       "    </tr>\n",
       "    <tr>\n",
       "      <th>BROOKLYN</th>\n",
       "      <td>20.725656</td>\n",
       "    </tr>\n",
       "    <tr>\n",
       "      <th>MANHATTAN</th>\n",
       "      <td>20.841213</td>\n",
       "    </tr>\n",
       "    <tr>\n",
       "      <th>QUEENS</th>\n",
       "      <td>23.746771</td>\n",
       "    </tr>\n",
       "    <tr>\n",
       "      <th>STATEN ISLAND</th>\n",
       "      <td>26.283222</td>\n",
       "    </tr>\n",
       "    <tr>\n",
       "      <th>Unspecified</th>\n",
       "      <td>11.652647</td>\n",
       "    </tr>\n",
       "  </tbody>\n",
       "</table>\n",
       "</div>"
      ],
      "text/plain": [
       "               timedeltaint\n",
       "borough                    \n",
       "BRONX             18.789025\n",
       "BROOKLYN          20.725656\n",
       "MANHATTAN         20.841213\n",
       "QUEENS            23.746771\n",
       "STATEN ISLAND     26.283222\n",
       "Unspecified       11.652647"
      ]
     },
     "execution_count": 23,
     "metadata": {},
     "output_type": "execute_result"
    }
   ],
   "source": [
    "subdata.groupby(by='borough').mean()"
   ]
  },
  {
   "cell_type": "markdown",
   "metadata": {},
   "source": [
    "So, I definitely wouldn't trust these data right now - I'm still working on finding a data dictionary for the 311 data, and I need to make sure the columns mean what I think they mean. The point of this is just to show that the process would be once I get my hands on reliable data."
   ]
  }
 ],
 "metadata": {
  "kernelspec": {
   "display_name": "Python 2",
   "language": "python",
   "name": "python2"
  },
  "language_info": {
   "codemirror_mode": {
    "name": "ipython",
    "version": 2
   },
   "file_extension": ".py",
   "mimetype": "text/x-python",
   "name": "python",
   "nbconvert_exporter": "python",
   "pygments_lexer": "ipython2",
   "version": "2.7.11"
  }
 },
 "nbformat": 4,
 "nbformat_minor": 0
}
